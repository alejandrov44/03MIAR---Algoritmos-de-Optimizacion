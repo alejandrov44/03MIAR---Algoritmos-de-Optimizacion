{
  "nbformat": 4,
  "nbformat_minor": 0,
  "metadata": {
    "colab": {
      "provenance": [],
      "include_colab_link": true
    },
    "kernelspec": {
      "name": "python3",
      "display_name": "Python 3"
    }
  },
  "cells": [
    {
      "cell_type": "markdown",
      "metadata": {
        "id": "view-in-github",
        "colab_type": "text"
      },
      "source": [
        "<a href=\"https://colab.research.google.com/github/alejandrov44/03MIAR---Algoritmos-de-Optimizacion/blob/main/Seminario_Algoritmos.ipynb\" target=\"_parent\"><img src=\"https://colab.research.google.com/assets/colab-badge.svg\" alt=\"Open In Colab\"/></a>"
      ]
    },
    {
      "cell_type": "markdown",
      "metadata": {
        "id": "hVbXYX-RfPWh"
      },
      "source": [
        "# Algoritmos de optimización - Seminario<br>\n",
        "Nombre y Apellidos: Alejandro Viana Labà  <br>\n",
        "Url: https://github.com/alejandrov44/03MIAR---Algoritmos-de-Optimizacion/blob/main/Seminario_Algoritmos.ipynb<br>\n",
        "Problema:\n",
        "3. Combinar cifras y operaciones\n",
        "\n",
        "Descripción del problema:\n",
        "* El problema consiste en analizar el siguiente problema y diseñar un algoritmo que lo resuelva.\n",
        "* Disponemos de las 9 cifras del 1 al 9 (excluimos el cero) y de los 4 signos básicos de las\n",
        "operaciones fundamentales: suma(+), resta(-), multiplicación(*) y división(/)\n",
        "* Debemos combinarlos alternativamente sin repetir ninguno de ellos para obtener una cantidad\n",
        "dada. Un ejemplo sería para obtener el 4:\n",
        "4+2-6/3*1 = 4\n",
        "* Debe analizarse el problema para encontrar todos los valores enteros posibles planteando las\n",
        "siguientes cuestiones:\n",
        "  + ¿Qué valor máximo y mínimo se pueden obtener según las condiciones del problema?\n",
        "  + ¿Es posible encontrar todos los valores enteros posibles entre dicho mínimo y máximo ?\n",
        "\n",
        "\n",
        "(*) La respuesta es obligatoria\n",
        "\n",
        "\n",
        "\n",
        "\n",
        "\n",
        "                                        "
      ]
    },
    {
      "cell_type": "markdown",
      "metadata": {
        "id": "3_-exlrTgLd-"
      },
      "source": [
        "(*)¿Cuantas posibilidades hay sin tener en cuenta las restricciones?<br>\n",
        "\n",
        "\n",
        "\n",
        "¿Cuantas posibilidades hay teniendo en cuenta todas las restricciones.\n",
        "\n",
        "\n"
      ]
    },
    {
      "cell_type": "markdown",
      "metadata": {
        "id": "WfCUqJyKhPcw"
      },
      "source": [
        "Respuesta\n",
        "\n",
        "* Sin tener en cuenta restricciones:<br>\n",
        "9 Cifras 5 veces y 4 operaciones 4 cuatro veces <br>\n",
        "9^5*4^4 = 15116544 posibilidades<br>\n",
        "* Teniendo en cuenta restricciones:<br>\n",
        "Permutacion sin repetición 9 conjunto de elementos de 5 elementos posibles: 15120<br>\n",
        "Permutacion sin repetición 4 conjunto de elementos de 4 elementos posibles: 24<br>\n",
        "15120 * 24 = 362880 posibilidades"
      ]
    },
    {
      "cell_type": "markdown",
      "metadata": {
        "id": "dzynfVJahHoY"
      },
      "source": [
        "Modelo para el espacio de soluciones<br>\n",
        "(*) ¿Cual es la estructura de datos que mejor se adapta al problema? Argumentalo.(Es posible que hayas elegido una al principio y veas la necesidad de cambiar, arguentalo)\n"
      ]
    },
    {
      "cell_type": "markdown",
      "metadata": {
        "id": "xFIJrOwKi2Ti"
      },
      "source": [
        "Respuesta<br>\n",
        "Las estructuras de datos que mas se adapta a este problema son distintas dependiendo del paso del algoritmo en el que estés: \n",
        "* Por ejemplo una lista con las diferentes operaciones y otra con los diferentes numeros. \n",
        "* La función permutations que usa tuplas con las diferentes combinaciones posibles.\n",
        "* Un set para almacenar todos los posibles resultados enteros sin que se repitan.\n",
        "* Diccionarios para aprovechar variables relacionadas."
      ]
    },
    {
      "cell_type": "markdown",
      "metadata": {
        "id": "7Z9U2W7bi-XS"
      },
      "source": [
        "Según el modelo para el espacio de soluciones<br>\n",
        "(*)¿Cual es la función objetivo?\n",
        "\n",
        "(*)¿Es un problema de maximización o minimización?"
      ]
    },
    {
      "cell_type": "markdown",
      "metadata": {
        "id": "hBalWLM7j1_d"
      },
      "source": [
        "Respuesta <br>\n",
        "¿Cual es la función objetivo?<br>\n",
        "* Creo que no tiene una función objetivo como tal, ya que la función objetivo busca mirar si nos aproximamos a la solución optima pero en este caso no tiene sentido ya que la expresión es o no es óptima.<br>\n",
        "\n",
        "\n",
        "¿Es un problema de maximización o minimización?<br>\n",
        "* No es un problema ni de maximización ni de minimización si no de busqueda.\n"
      ]
    },
    {
      "cell_type": "markdown",
      "metadata": {
        "id": "txbrmLmskReM"
      },
      "source": [
        "(*)Diseña un algoritmo que mejore la complejidad del algortimo por fuerza bruta. Argumenta porque crees que mejora el algoritmo por fuerza bruta"
      ]
    },
    {
      "cell_type": "markdown",
      "metadata": {
        "id": "hLrVwt5QkZPD"
      },
      "source": [
        "Respuesta<br>\n",
        "No entendi muy bien el enunciado ya que hay como 2 distintos algoritmos que hacer con los enunciados, así que hice ambos. <br>\n",
        "El primero te genera la expresion que resulta en el numero entero que le pasas.<br>\n",
        "Y el segundo te genera todos los valores enteros posibles y te encuentra la expresión que genera el valor mínimo y la expresión que te genera el valor máximo.<br>\n",
        "En el algoritmo de generar todos los numero enteros no existe optimización ya que si o si me los he de recorrer todos para devolverlos, en cambio el de generar la expresíon de un numero al ser algoritmo de busqueda a la que encontramos nuestra solución podemos terminar y no tener que recorrernos todas las posibilidades."
      ]
    },
    {
      "cell_type": "code",
      "metadata": {
        "id": "m1eyM21Vkabg",
        "colab": {
          "base_uri": "https://localhost:8080/"
        },
        "outputId": "1dbea199-3adc-4b99-ab3a-49d7b00a635f"
      },
      "source": [
        "from itertools import permutations\n",
        "def generar_expresion(num): \n",
        "  operaciones = [\"+\", \"-\", \"*\", \"/\"]\n",
        "  numeros = list(range(1, 10))\n",
        "  perm_numeros = permutations(numeros, 5)\n",
        "  for i in list(perm_numeros):\n",
        "    perm_operaciones = permutations(operaciones)\n",
        "    for j in list(perm_operaciones):\n",
        "      expresion = str(i[0]) + j[0] + str(i[1]) + j[1] + str(i[2]) + j[2] + str(i[3]) + j[3] + str(i[4])\n",
        "      if(eval(expresion) == num): return expresion\n",
        "\n",
        "def generar_numeros_enteros(): \n",
        "  operaciones = [\"+\", \"-\", \"*\", \"/\"]\n",
        "  numeros = list(range(1, 10))\n",
        "  enteros = {4}\n",
        "  minimo = {\"expresion\":\"\", \"valor\":0}\n",
        "  maximo = {\"expresion\":\"\", \"valor\":0}\n",
        "  perm_numeros = permutations(numeros, 5)\n",
        "  for i in list(perm_numeros):\n",
        "    perm_operaciones = permutations(operaciones)\n",
        "    for j in list(perm_operaciones):\n",
        "      expresion = str(i[0]) + j[0] + str(i[1]) + j[1] + str(i[2]) + j[2] + str(i[3]) + j[3] + str(i[4])\n",
        "      resultado = int(eval(expresion))\n",
        "      enteros.add(resultado)\n",
        "      if resultado < minimo[\"valor\"]:\n",
        "        minimo[\"expresion\"] = expresion\n",
        "        minimo[\"valor\"] = resultado\n",
        "      if resultado > maximo[\"valor\"]:\n",
        "        maximo[\"expresion\"] = expresion\n",
        "        maximo[\"valor\"] = resultado\n",
        "\n",
        "  return enteros, minimo[\"expresion\"], maximo[\"expresion\"]\n",
        "      \n",
        "\n",
        "print(\"Expresion que genera un numero 4: \"+generar_expresion(4))\n",
        "enteros, minimo, maximo = generar_numeros_enteros()\n",
        "print(\"Numeros enteros:\")\n",
        "print(list(enteros))\n",
        "print(\"Numero minimo posible:\")\n",
        "print(minimo)\n",
        "print(\"Numero maximo posible:\")\n",
        "print(maximo)\n"
      ],
      "execution_count": null,
      "outputs": [
        {
          "output_type": "stream",
          "name": "stdout",
          "text": [
            "Expresion que genera un numero 4: 1-2*3/6+4\n",
            "Numeros enteros:\n",
            "[0, 1, 2, 3, 4, 5, 6, 7, 8, 9, 10, 11, 12, 13, 14, 15, 16, 17, 18, 19, 20, 21, 22, 23, 24, 25, 26, 27, 28, 29, 30, 31, 32, 33, 34, 35, 36, 37, 38, 39, 40, 41, 42, 43, 44, 45, 46, 47, 48, 49, 50, 51, 52, 53, 54, 55, 56, 57, 58, 59, 60, 61, 62, 63, 64, 65, 66, 67, 68, 69, 70, 71, 72, 73, 74, 75, 76, 77, 78, -70, -69, -68, -67, -66, -65, -64, -63, -62, -61, -60, -59, -58, -57, -56, -55, -54, -53, -52, -51, -50, -49, -48, -47, -46, -45, -44, -43, -42, -41, -40, -39, -38, -37, -36, -35, -34, -33, -32, -31, -30, -29, -28, -27, -26, -25, -24, -23, -22, -21, -20, -19, -18, -17, -16, -15, -14, -13, -12, -11, -10, -9, -8, -7, -6, -5, -4, -3, -2, -1]\n",
            "Numero minimo posible:\n",
            "1+2/3-8*9\n",
            "Numero maximo posible:\n",
            "7-1/2+8*9\n"
          ]
        }
      ]
    },
    {
      "cell_type": "markdown",
      "metadata": {
        "id": "eGDB4K6uk1iN"
      },
      "source": [
        "(*)Calcula la complejidad del algoritmo "
      ]
    },
    {
      "cell_type": "markdown",
      "metadata": {
        "id": "NhpTh_BPk1ms"
      },
      "source": [
        "Respuesta<br>\n",
        "El coste de la función que he utilizado para el problema, llamada permutations() tiene una complejidad de n^2, y dado que la uso dentro del primer bucle, diria que la complejidad del algoritmo deberia de ser n^3"
      ]
    },
    {
      "cell_type": "markdown",
      "metadata": {
        "id": "eTFWUJQrtGcv"
      },
      "source": [
        "Enumera las referencias que has utilizado(si ha sido necesario) para llevar a cabo el trabajo"
      ]
    },
    {
      "cell_type": "markdown",
      "metadata": {
        "id": "YKQ_mRBttWsP"
      },
      "source": [
        "Respuesta<br>\n",
        "La libreria que me ha permitido hacer las permutaciones: https://docs.python.org/3/library/itertools.html"
      ]
    },
    {
      "cell_type": "markdown",
      "metadata": {
        "id": "kAkDPUyRtYyH"
      },
      "source": [
        "Describe brevemente las lineas de como crees que es posible avanzar en el estudio del problema. Ten en cuenta incluso posibles variaciones del problema y/o variaciones al alza del tamaño"
      ]
    },
    {
      "cell_type": "markdown",
      "metadata": {
        "id": "IE0uZmo-tZu-"
      },
      "source": [
        "Respuesta<br>\n",
        "Al ser un algoritmo que es mas manejable que muchos otros gracias a que no tiene tantas posibilidades, la unica manera de avanzar con el problema sería probando los algoritmos ya existentes y viendo cual se ajusta mejor a como quieres que se resuelva, ya que seguramente no haya maneras de solventarlo mas eficientes que aun no hayan sido inventadas."
      ]
    },
    {
      "cell_type": "markdown",
      "source": [
        "---------------------------------------------------------------------------"
      ],
      "metadata": {
        "id": "V46Ja-UMKdRJ"
      }
    },
    {
      "cell_type": "markdown",
      "source": [
        "Por ultimo para implementar el algoritmo con otro metodo se me ocurrio usar algoritmo genetico ya que en clase se dijo que son los mas actuales y de los que mas se habla, pero a mitad del proceso me di cuenta que para el problema que estaba utilizando era demasiado, y termine por simplificarlo ya que no veia necesidad de complicarlo mas.<br>\n",
        "Es un algoritmo heurístico ya que no se sabe si el resultado que se ha conseguido es el mas optimo, pero no tiene ni funcion de cruce ni de mutación.<br>\n",
        "Aún así muchas de las veces da con la solución del problema."
      ],
      "metadata": {
        "id": "wdZVdAfBJGbS"
      }
    },
    {
      "cell_type": "code",
      "source": [
        "from random import sample\n",
        "operaciones = [\"+\", \"-\", \"*\", \"/\"]\n",
        "numeros = list(range(1, 10))"
      ],
      "metadata": {
        "id": "GzITwi98xeb8"
      },
      "execution_count": 5,
      "outputs": []
    },
    {
      "cell_type": "code",
      "source": [
        "def generar_expresion():\n",
        "  r_num = sample(numeros, 5)\n",
        "  r_op = sample(operaciones, 4)\n",
        "  expresion = str(r_num[0]) + r_op[0] + str(r_num[1]) + r_op[1] + str(r_num[2]) + r_op[2] + str(r_num[3]) + r_op[3] + str(r_num[4])\n",
        "  return expresion\n"
      ],
      "metadata": {
        "id": "InJ_gnp3eSxv"
      },
      "execution_count": 8,
      "outputs": []
    },
    {
      "cell_type": "code",
      "source": [
        "#Genera una poblacion inicial de soluciones de tamaño N.\n",
        "def generar_poblacion(num_poblacion):\n",
        "  poblacion = []\n",
        "  for i in range(num_poblacion):\n",
        "    poblacion.append(generar_expresion())\n",
        "  return poblacion"
      ],
      "metadata": {
        "id": "B3Lsff4UGx_1"
      },
      "execution_count": 6,
      "outputs": []
    },
    {
      "cell_type": "code",
      "source": [
        "def evaluar_poblacion(poblacion, numero_resultado):\n",
        "  mejor_resultado = 9999\n",
        "  for expresion in poblacion:\n",
        "    resultado = int(eval(expresion))\n",
        "    if resultado-mejor_resultado < resultado-numero_resultado:\n",
        "      mejor_resultado = resultado\n",
        "  return mejor_resultado"
      ],
      "metadata": {
        "id": "58vmU_afi6vX"
      },
      "execution_count": 7,
      "outputs": []
    },
    {
      "cell_type": "code",
      "source": [
        "#Funcion principal del algoritmo\n",
        "#######################################################3\n",
        "def algoritmo_heuristico(numero_resultado,N=100,generaciones=100):\n",
        "  # problem = datos del problema\n",
        "  # N = Tamaño de la población\n",
        "  # generaciones = nº de generaciones a generar para finalizar\n",
        "  mejor_solicion_final = 999\n",
        "  #Condicion de parada\n",
        "  parar = False\n",
        "  n=0\n",
        "  #Inciamos el cliclo de generaciones\n",
        "  while(parar == False) :\n",
        "    # Generamos una poblacion\n",
        "    poblacion = generar_poblacion(N)\n",
        "    # La evaluamos\n",
        "    mejor_solucion = evaluar_poblacion(poblacion, numero_resultado)\n",
        "  \n",
        "    if mejor_solucion-numero_resultado < mejor_solicion_final-numero_resultado:\n",
        "      mejor_solicion_final = mejor_solucion\n",
        " \n",
        "    # Numero de generaciones. Criterio de parada\n",
        "    if n==generaciones:\n",
        "      print(\"La mejor solución es:\" , mejor_solucion, \"\\n\")\n",
        "      parar = True\n",
        "    n +=1\n",
        "    \n",
        "  return mejor_solucion\n",
        "  \n",
        "\n",
        "sol = algoritmo_heuristico(numero_resultado=4,N=100,generaciones=100)"
      ],
      "metadata": {
        "colab": {
          "base_uri": "https://localhost:8080/"
        },
        "id": "H_GT8--N6Mdg",
        "outputId": "0dd7ffb7-08ed-4d7a-edea-0520c708d396"
      },
      "execution_count": 28,
      "outputs": [
        {
          "output_type": "stream",
          "name": "stdout",
          "text": [
            "La mejor solución es: 4 \n",
            "\n"
          ]
        }
      ]
    }
  ]
}